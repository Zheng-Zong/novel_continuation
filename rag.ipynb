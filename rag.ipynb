{
 "cells": [
  {
   "cell_type": "code",
   "execution_count": 2,
   "metadata": {},
   "outputs": [
    {
     "name": "stdout",
     "output_type": "stream",
     "text": [
      "成功加载书籍: 三体\n"
     ]
    }
   ],
   "source": [
    "import json\n",
    "import os\n",
    "from langchain_openai import OpenAIEmbeddings\n",
    "from langchain_community.document_loaders import TextLoader\n",
    "from langchain_text_splitters import CharacterTextSplitter\n",
    "from modules.faiss_retriever import BookRetriever\n",
    "\n",
    "os.environ[\"OPENAI_API_KEY\"] = \"YOUR_API_KEY\"\n",
    "\n",
    "book_info_path = 'database/book_info.json'\n",
    "\n",
    "try:\n",
    "    with open(book_info_path, 'r', encoding='utf-8') as file:\n",
    "        book_info = json.load(file)\n",
    "except Exception as e:\n",
    "    print(f\"书籍数据加载失败：{e}\")\n",
    "\n",
    "TPM_limit = 1000000\n",
    "\n",
    "embeddings = OpenAIEmbeddings(model='text-embedding-3-small')\n",
    "\n",
    "book_retriever = BookRetriever(\"三体\", embeddings, book_info_path)"
   ]
  },
  {
   "cell_type": "code",
   "execution_count": 2,
   "metadata": {},
   "outputs": [
    {
     "ename": "RuntimeError",
     "evalue": "Error loading novels/TOP/《三体》（实体版1-3全本）作者：刘慈欣.txt",
     "output_type": "error",
     "traceback": [
      "\u001b[1;31m---------------------------------------------------------------------------\u001b[0m",
      "\u001b[1;31mUnicodeDecodeError\u001b[0m                        Traceback (most recent call last)",
      "File \u001b[1;32md:\\anaconda3\\envs\\qqbot\\Lib\\site-packages\\langchain_community\\document_loaders\\text.py:43\u001b[0m, in \u001b[0;36mTextLoader.lazy_load\u001b[1;34m(self)\u001b[0m\n\u001b[0;32m     42\u001b[0m     \u001b[38;5;28;01mwith\u001b[39;00m \u001b[38;5;28mopen\u001b[39m(\u001b[38;5;28mself\u001b[39m\u001b[38;5;241m.\u001b[39mfile_path, encoding\u001b[38;5;241m=\u001b[39m\u001b[38;5;28mself\u001b[39m\u001b[38;5;241m.\u001b[39mencoding) \u001b[38;5;28;01mas\u001b[39;00m f:\n\u001b[1;32m---> 43\u001b[0m         text \u001b[38;5;241m=\u001b[39m \u001b[43mf\u001b[49m\u001b[38;5;241;43m.\u001b[39;49m\u001b[43mread\u001b[49m\u001b[43m(\u001b[49m\u001b[43m)\u001b[49m\n\u001b[0;32m     44\u001b[0m \u001b[38;5;28;01mexcept\u001b[39;00m \u001b[38;5;167;01mUnicodeDecodeError\u001b[39;00m \u001b[38;5;28;01mas\u001b[39;00m e:\n",
      "File \u001b[1;32m<frozen codecs>:322\u001b[0m, in \u001b[0;36mdecode\u001b[1;34m(self, input, final)\u001b[0m\n",
      "\u001b[1;31mUnicodeDecodeError\u001b[0m: 'utf-8' codec can't decode byte 0xb8 in position 60: invalid start byte",
      "\nThe above exception was the direct cause of the following exception:\n",
      "\u001b[1;31mRuntimeError\u001b[0m                              Traceback (most recent call last)",
      "Cell \u001b[1;32mIn[2], line 6\u001b[0m\n\u001b[0;32m      4\u001b[0m encoding \u001b[38;5;241m=\u001b[39m tiktoken\u001b[38;5;241m.\u001b[39mencoding_for_model(\u001b[38;5;124m\"\u001b[39m\u001b[38;5;124mtext-embedding-3-small\u001b[39m\u001b[38;5;124m\"\u001b[39m)\n\u001b[0;32m      5\u001b[0m loader \u001b[38;5;241m=\u001b[39m TextLoader(novel_path)\n\u001b[1;32m----> 6\u001b[0m documents \u001b[38;5;241m=\u001b[39m \u001b[43mloader\u001b[49m\u001b[38;5;241;43m.\u001b[39;49m\u001b[43mload\u001b[49m\u001b[43m(\u001b[49m\u001b[43m)\u001b[49m\n\u001b[0;32m      7\u001b[0m text_splitter \u001b[38;5;241m=\u001b[39m CharacterTextSplitter(\n\u001b[0;32m      8\u001b[0m         separator\u001b[38;5;241m=\u001b[39m\u001b[38;5;124m'\u001b[39m\u001b[38;5;130;01m\\n\u001b[39;00m\u001b[38;5;124m'\u001b[39m,\n\u001b[0;32m      9\u001b[0m         chunk_size\u001b[38;5;241m=\u001b[39m\u001b[38;5;241m1000\u001b[39m,\n\u001b[0;32m     10\u001b[0m         chunk_overlap\u001b[38;5;241m=\u001b[39m\u001b[38;5;241m200\u001b[39m,\n\u001b[0;32m     11\u001b[0m         length_function\u001b[38;5;241m=\u001b[39m\u001b[38;5;28mlen\u001b[39m\n\u001b[0;32m     12\u001b[0m )\n\u001b[0;32m     13\u001b[0m docs \u001b[38;5;241m=\u001b[39m text_splitter\u001b[38;5;241m.\u001b[39msplit_documents(documents)\n",
      "File \u001b[1;32md:\\anaconda3\\envs\\qqbot\\Lib\\site-packages\\langchain_core\\document_loaders\\base.py:30\u001b[0m, in \u001b[0;36mBaseLoader.load\u001b[1;34m(self)\u001b[0m\n\u001b[0;32m     28\u001b[0m \u001b[38;5;28;01mdef\u001b[39;00m \u001b[38;5;21mload\u001b[39m(\u001b[38;5;28mself\u001b[39m) \u001b[38;5;241m-\u001b[39m\u001b[38;5;241m>\u001b[39m List[Document]:\n\u001b[0;32m     29\u001b[0m \u001b[38;5;250m    \u001b[39m\u001b[38;5;124;03m\"\"\"Load data into Document objects.\"\"\"\u001b[39;00m\n\u001b[1;32m---> 30\u001b[0m     \u001b[38;5;28;01mreturn\u001b[39;00m \u001b[38;5;28;43mlist\u001b[39;49m\u001b[43m(\u001b[49m\u001b[38;5;28;43mself\u001b[39;49m\u001b[38;5;241;43m.\u001b[39;49m\u001b[43mlazy_load\u001b[49m\u001b[43m(\u001b[49m\u001b[43m)\u001b[49m\u001b[43m)\u001b[49m\n",
      "File \u001b[1;32md:\\anaconda3\\envs\\qqbot\\Lib\\site-packages\\langchain_community\\document_loaders\\text.py:56\u001b[0m, in \u001b[0;36mTextLoader.lazy_load\u001b[1;34m(self)\u001b[0m\n\u001b[0;32m     54\u001b[0m                 \u001b[38;5;28;01mcontinue\u001b[39;00m\n\u001b[0;32m     55\u001b[0m     \u001b[38;5;28;01melse\u001b[39;00m:\n\u001b[1;32m---> 56\u001b[0m         \u001b[38;5;28;01mraise\u001b[39;00m \u001b[38;5;167;01mRuntimeError\u001b[39;00m(\u001b[38;5;124mf\u001b[39m\u001b[38;5;124m\"\u001b[39m\u001b[38;5;124mError loading \u001b[39m\u001b[38;5;132;01m{\u001b[39;00m\u001b[38;5;28mself\u001b[39m\u001b[38;5;241m.\u001b[39mfile_path\u001b[38;5;132;01m}\u001b[39;00m\u001b[38;5;124m\"\u001b[39m) \u001b[38;5;28;01mfrom\u001b[39;00m \u001b[38;5;21;01me\u001b[39;00m\n\u001b[0;32m     57\u001b[0m \u001b[38;5;28;01mexcept\u001b[39;00m \u001b[38;5;167;01mException\u001b[39;00m \u001b[38;5;28;01mas\u001b[39;00m e:\n\u001b[0;32m     58\u001b[0m     \u001b[38;5;28;01mraise\u001b[39;00m \u001b[38;5;167;01mRuntimeError\u001b[39;00m(\u001b[38;5;124mf\u001b[39m\u001b[38;5;124m\"\u001b[39m\u001b[38;5;124mError loading \u001b[39m\u001b[38;5;132;01m{\u001b[39;00m\u001b[38;5;28mself\u001b[39m\u001b[38;5;241m.\u001b[39mfile_path\u001b[38;5;132;01m}\u001b[39;00m\u001b[38;5;124m\"\u001b[39m) \u001b[38;5;28;01mfrom\u001b[39;00m \u001b[38;5;21;01me\u001b[39;00m\n",
      "\u001b[1;31mRuntimeError\u001b[0m: Error loading novels/TOP/《三体》（实体版1-3全本）作者：刘慈欣.txt"
     ]
    }
   ],
   "source": [
    "# 加载小说进Retriever\n",
    "import tiktoken\n",
    "novel_path = \"novels/TOP/《三体》（实体版1-3全本）作者：刘慈欣.txt\"\n",
    "encoding = tiktoken.encoding_for_model(\"text-embedding-3-small\")\n",
    "loader = TextLoader(novel_path)\n",
    "documents = loader.load()\n",
    "text_splitter = CharacterTextSplitter(\n",
    "        separator='\\n',\n",
    "        chunk_size=1000,\n",
    "        chunk_overlap=200,\n",
    "        length_function=len\n",
    ")\n",
    "docs = text_splitter.split_documents(documents)\n",
    "book_retriever.add_large_documents(docs, encoding, TPM_limit=TPM_limit)\n",
    "book_retriever.save_local()"
   ]
  },
  {
   "cell_type": "code",
   "execution_count": 2,
   "metadata": {},
   "outputs": [
    {
     "data": {
      "text/plain": [
       "[(Document(metadata={'source': 'novels/TOP/《三体》（实体版1-3全本）作者：刘慈欣.txt'}, page_content='“不，那哪行！”白沐霖连连摆手说，“你们建设兵团的女战士，白天干的都是男同志的活儿，快回去休息吧，明天六点就要上山呢。哦，文洁，我后天就要回师部了，我会把你的情况向上级反映一下，也许能帮上忙呢。”\\n\\u3000\\u3000“谢谢，不过我觉得这里很好，挺安静的。”文洁看着月光下大兴安岭朦胧的林海说。\\n\\u3000\\u3000“你是不是在逃避什么？”\\n\\u3000\\u3000“我走了。”叶文洁轻声说，转身离去。\\n\\u3000\\u3000白沐霖看着她那纤细的身影在月光下消失，然后，他抬头遥望文洁刚才看过的林海，看到远方的雷达峰上，巨大的天线又缓缓立起，闪着金属的冷光。\\n\\u3000\\u3000三个星期后的一天中午，叶文洁被从伐木场紧急召回连部。一走进办公室，她就发现气氛不对，连长和指导员都在，还有一个表情冷峻的陌生人，他面前的办公桌上放着一个黑色的公文包，旁边两件东西显然是从公文包中拿出来的，那是一个信封和一本书，信封是拆开的，书就是那本她看过的《寂静的春天》。\\n\\u3000\\u3000这个年代的人对自己的政治处境都有一种特殊的敏感，而这种敏感在叶文洁身上更强烈一些，她顿时感到周围的世界像一个口袋般收紧，一切都向她挤压过来。\\n\\u3000\\u3000“叶文洁，这是师政治部来调查的张主任，”指导员指指陌生人说， “希望你配合，要讲实话。”\\n\\u3000\\u3000“这封信是你写的吗？”张主任问，同时从信封中抽出信来。叶文洁伸手去拿，但张主任没给她，仍把信拿在自己手中，一页一页翻给她看，终于翻到了她想看的最后一页，落款上没有姓名，只写着“革命群众”四个字。\\n\\u3000\\u3000“不，不是我写的。”文洁惊恐地摇摇头。\\n\\u3000\\u3000“可这是你的笔迹。”\\n\\u3000\\u3000“是，可我是帮别人抄的。”\\n\\u3000\\u3000“帮谁？”\\n\\u3000\\u3000平时在连队遇到什么事，叶文洁很少为自己申辩，所有的亏都默默地吃了，所有的委屈都默默地承受，更不用说牵连别人了。但这次不同，她很清楚这意味着什么。\\n\\u3000\\u3000“是帮那位上星期到连队来采访的《大生产报》记者抄的，他叫……”\\n\\u3000\\u3000“叶文洁！”张主任的眼睛像两个黑洞洞的枪口对着她，“我警告你，诬陷别人会使你的问题更加严重。我们已经从白沐霖同志那里调查清楚了，他只是受你之托把信带到呼和浩特发出去，并不知道信的内容。”\\n\\u3000\\u3000“他……是这么说的？！”文洁眼前一黑。'),\n",
       "  0.93380165),\n",
       " (Document(metadata={'source': 'novels/TOP/《三体》（实体版1-3全本）作者：刘慈欣.txt'}, page_content='白沐霖无意之中成为一个标志性的关键历史人物，但他自己没有机会知道这点，历史学家们失望地记载了他平淡的余生。白沐霖在《大生产报》一直工作到\\n\\u3000\\u30001975 年，那时内蒙古建设兵团撤销，他调到一个东北城市的科协工作至上世纪八十年代初，然后出国到加拿大，在渥太华一所华语学校任教师至\\n\\u3000\\u30001991 年，患肺癌去世。余生中他没对任何人提起过叶文洁的事，是否感到过自责和忏悔也不得而知。\\n\\u3000\\u3000“小叶啊，连里对你可是仁至义尽了。”连长喷出一口辣烈的莫合烟，看着地面说，“你出身和家庭背景都不好，可我们没把你当外人。针对你脱离群众、不积极要求进步的倾向，我和指导员都多次找你谈过，想帮助你。谁想到，你竟犯了这么严重的错误！”\\n\\u3000\\u3000“我早就看出来，她对‘文化大革命’的抵触情绪是根深蒂固的。”指导员接着说。\\n\\u3000\\u3000“下午，派两个人，把她和这些罪证一起送到师部去。”张主任面无表情地说。\\n\\u3000\\u3000同室的三名女犯相继被提走，监室里只剩叶文洁一个人了。墙角的那一小堆煤用完了也没人来加，炉子很快灭了，监室里冷了下来，叶文洁不得不将被子裹在身上。\\n\\u3000\\u3000天黑前来了两个人，其中一名是年长些的女干部，随行的那人介绍说她是中级法院军管会的军代表。\\n\\u3000\\u3000“程丽华。”女干部自我介绍说，她四十多岁，身穿军大衣，戴着一副宽边眼镜，脸上线条柔和，看得出年轻时一定很漂亮，说话时面带微笑，让人感到平易近人。叶文洁清楚，这样级别的人来到监室见一个待审的犯人，很不寻常。她谨慎地对程丽华点点头，起身在狭窄的床铺上给她让出坐的地方。\\n\\u3000\\u3000“这么冷，炉子呢？”程丽华不满地看了站在门口的看守所所长一眼，又转向文洁，“嗯，年轻，你比我想的还年轻。”说完坐在床上，离文洁很近，低头翻起公文包来，嘴里还像老大妈似的嘟囔着，“小叶你糊涂啊，年轻人都这样，书越读得多越糊涂了，你呀你呀……”她找到了要找的东西，把那一小打文件抱在胸前，抬头看着叶文洁，目光中充满了慈爱，“不过，年轻人嘛，谁没犯过错误？我就犯过，那时我在四野的文工团，苏联歌曲唱得好，一次政治学习会上，我说我们应该并入苏联，成为苏维埃社会主义联盟的一个新共和国，这样国际共产主义的力量就更强大了……幼稚啊，可谁没幼稚过呢？还是那句话，不要有思想负担，有错就认识就改，然后继续革命嘛。”程丽华的一席话拉近了叶文洁与她的距离，但叶文洁在灾难中学会了谨慎，她不敢贸然接受这份奢侈的善意。'),\n",
       "  0.9381319),\n",
       " (Document(metadata={'source': 'novels/TOP/《三体》（实体版1-3全本）作者：刘慈欣.txt'}, page_content='“是帮那位上星期到连队来采访的《大生产报》记者抄的，他叫……”\\n\\u3000\\u3000“叶文洁！”张主任的眼睛像两个黑洞洞的枪口对着她，“我警告你，诬陷别人会使你的问题更加严重。我们已经从白沐霖同志那里调查清楚了，他只是受你之托把信带到呼和浩特发出去，并不知道信的内容。”\\n\\u3000\\u3000“他……是这么说的？！”文洁眼前一黑。\\n\\u3000\\u3000张主任没有回答她的话，而是拿起了那本书，“你写这封信，一定是受到了它的启发。”他把书对着连长和指导员展示了一下，“这本书叫《寂静的春天》，1962 年在美国出版，在资本主义世界影响很大。”他接着从公文包中拿出了另一本书，封面是白皮黑字，“这是这本书的中译本，是有关部门以内参形式下发的，供批判用。现在，上级对这本书已经做出了明确的定性：这是一部反动的大毒草。该书从唯心史观出发，宣扬末世论，借环境问题之名，为资本主义世界最后的腐朽没落寻找托辞，其实质是十分反动的。”\\n\\u3000\\u3000“可这本书……也不是我的。”文洁无力地说。\\n\\u3000\\u3000“白沐霖同志是上级指定的本书译者之一，他携带这本书是完全合法的，当然，他也负有保管责任，不该让你趁他在劳动中不备时偷拿去看——现在，你从这本书中找到了向社会主义进攻的思想武器。”\\n\\u3000\\u3000叶文洁沉默了，她知道自己已经掉到陷阱的底部，任何挣扎都是徒劳的。\\n\\u3000\\u3000与后来人们熟知的一些历史记载相反，白沐霖当初并非有意陷害叶文洁，他写给中央的那封信也可能是出于真诚的责任心。那时怀着各种目的直接给中央写信的人很多，大多数信件石沉大海，也有少数人因此一夜之间飞黄腾达或面临灭顶之灾。当时的政治神经是极其错综复杂的，作为记者，白沐霖自以为了解这神经系统的走向和敏感之处，但他过分自信了，他这封信触动了他以前不知道的雷区。得知消息后，恐惧压倒了一切，他决定牺牲叶文洁，保护自己。\\n\\u3000\\u3000半个世纪后，历史学家们一致认为， 1969\\n\\u3000\\u3000年的这一事件是以后人类历史的一个转折点。\\n\\u3000\\u3000白沐霖无意之中成为一个标志性的关键历史人物，但他自己没有机会知道这点，历史学家们失望地记载了他平淡的余生。白沐霖在《大生产报》一直工作到\\n\\u3000\\u30001975 年，那时内蒙古建设兵团撤销，他调到一个东北城市的科协工作至上世纪八十年代初，然后出国到加拿大，在渥太华一所华语学校任教师至\\n\\u3000\\u30001991 年，患肺癌去世。余生中他没对任何人提起过叶文洁的事，是否感到过自责和忏悔也不得而知。'),\n",
       "  0.98604554)]"
      ]
     },
     "execution_count": 2,
     "metadata": {},
     "output_type": "execute_result"
    }
   ],
   "source": [
    "book_retriever.search(\"叶文洁是谁\")"
   ]
  },
  {
   "cell_type": "code",
   "execution_count": 4,
   "metadata": {},
   "outputs": [],
   "source": [
    "from langchain_core.prompts import ChatPromptTemplate\n",
    "from langchain_openai import ChatOpenAI\n",
    "from langchain_core.runnables import RunnablePassthrough\n",
    "from langchain_core.output_parsers import StrOutputParser\n",
    "\n",
    "llm = ChatOpenAI(model='gpt-4o-mini')\n",
    "retriever = book_retriever.vector_store.as_retriever()\n",
    "\n",
    "def format_docs(docs):\n",
    "    return \"\\n\\n\".join(doc.page_content for doc in docs)\n",
    "\n",
    "template = \"\"\"根据以下内容对小说进行续写：\n",
    "{context}\n",
    "\n",
    "需要续写的开头： {question}\n",
    "\"\"\"\n",
    "prompt = ChatPromptTemplate.from_template(template)\n",
    "\n",
    "rag_chain = (\n",
    "    {\"context\": retriever | format_docs, \"question\": RunnablePassthrough()}\n",
    "    | prompt\n",
    "    | llm\n",
    "    | StrOutputParser()\n",
    ")"
   ]
  },
  {
   "cell_type": "code",
   "execution_count": 5,
   "metadata": {},
   "outputs": [
    {
     "data": {
      "text/plain": [
       "'艾AA和云天明被困在黑域之中，四周是一片无尽的黑暗，连光线也似乎无法穿透。没有方向，没有声音，只有无边的寂静和压迫感。云天明心中升起一丝焦虑，虽然他再一次与程心相会，但此刻却被困在这样一个陌生而无情的空间中。他伸出手，试图在黑暗中找到什么，但手指碰触到的只是虚空。\\n\\n“我们该怎么办？”艾AA的声音在黑暗中显得格外微弱，似乎连空气都在吞噬她的声音。\\n\\n“别担心，我们一定能找到出路。”云天明努力让自己保持冷静，心中却暗自焦虑。他知道在这样的黑域中，时间的流逝是无法估量的，任何不慎都可能导致无法逆转的结果。\\n\\n“程心呢？她在哪里？”艾AA的声音中透出急切。\\n\\n“我不知道，但我们不能放弃希望。”云天明摇了摇头，心中隐隐感到不安。他们曾经在光明与黑暗之间挣扎过，但这次的黑域似乎比以往任何一次都要深邃和绝望。\\n\\n“你觉得我们是怎么来到这里的？”艾AA问。\\n\\n云天明思索着：“我们应该是在——”他的话未能说完，周围的黑暗突然开始扭曲，似乎有某种力量在悄然移动。云天明的心跳加速，他感到一种强烈的不安。\\n\\n“快！我们得想办法离开这里！”艾AA紧张地说，眼中闪烁着恐惧的光芒。\\n\\n就在此时，黑暗的尽头似乎出现了一道微弱的光线，起初只是微不足道的闪烁，随后逐渐扩大，仿佛在呼唤着他们。\\n\\n“那是什么？”艾AA指着光线，眼中闪过一丝希望。\\n\\n“我们去看看！”云天明果断地说道，心中燃起一丝勇气。他们开始向光线走去，虽然脚下的路依旧模糊，但光的存在让他们感到了一丝温暖。\\n\\n随着他们不断接近，光线逐渐变得明亮，周围的黑暗似乎也在慢慢褪去。云天明和艾AA的心中充满了期待，仿佛前方有着未知的答案。\\n\\n但就在他们即将触碰到光线的瞬间，黑暗再次猛然收缩，像是一个巨大的黑色漩涡，将他们卷了进去。云天明拼命挣扎，但无论如何也无法逃脱。\\n\\n“云天明！”艾AA的声音在耳边回荡，直到最后一刻，云天明仍然能感觉到艾AA的手紧紧握住他的。\\n\\n在黑暗与光明的交替中，云天明的意识渐渐模糊，但他心中始终铭记着程心的影子。无论在多么绝望的境地，他们的心灵永远相连。\\n\\n当他再次睁开眼睛时，周围的环境已然不同。他们不再身处黑域，而是一个充满生机的世界——蓝色的草地、淡黄色的天空，还有那红色的太阳。\\n\\n“我们……回来了？”艾AA的声音中满是震惊。\\n\\n“看来是的。”云天明环顾四周，心中隐隐感到一丝不安。他知道，这个世界并不如表面上那般美好。\\n\\n“我们得赶快找到程心。”云天明坚定地说，心中燃起了希望与勇气。他们从黑暗中走出，迎接未知的冒险，誓言要重新相聚。'"
      ]
     },
     "execution_count": 5,
     "metadata": {},
     "output_type": "execute_result"
    }
   ],
   "source": [
    "rag_chain.invoke(\"艾AA和云天明被困在黑域之中\")"
   ]
  }
 ],
 "metadata": {
  "kernelspec": {
   "display_name": "qqbot",
   "language": "python",
   "name": "python3"
  },
  "language_info": {
   "codemirror_mode": {
    "name": "ipython",
    "version": 3
   },
   "file_extension": ".py",
   "mimetype": "text/x-python",
   "name": "python",
   "nbconvert_exporter": "python",
   "pygments_lexer": "ipython3",
   "version": "3.11.4"
  }
 },
 "nbformat": 4,
 "nbformat_minor": 2
}
