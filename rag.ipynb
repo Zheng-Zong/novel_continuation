{
 "cells": [
  {
   "cell_type": "code",
   "execution_count": 1,
   "metadata": {},
   "outputs": [
    {
     "name": "stdout",
     "output_type": "stream",
     "text": [
      "模块已加载\n",
      "成功加载书籍: 三体\n"
     ]
    }
   ],
   "source": [
    "import json\n",
    "import os\n",
    "from langchain_openai import OpenAIEmbeddings\n",
    "from langchain_community.document_loaders import TextLoader\n",
    "from langchain_text_splitters import CharacterTextSplitter\n",
    "from modules.faiss_retriever import BookRetriever\n",
    "\n",
    "os.environ[\"OPENAI_API_KEY\"] = \"YOUR_API_KEY\"\n",
    "\n",
    "book_info_path = 'database/book_info.json'\n",
    "\n",
    "try:\n",
    "    with open(book_info_path, 'r', encoding='utf-8') as file:\n",
    "        book_info = json.load(file)\n",
    "except Exception as e:\n",
    "    print(f\"书籍数据加载失败：{e}\")\n",
    "\n",
    "TPM_limit = 1000000\n",
    "\n",
    "embeddings = OpenAIEmbeddings(model='text-embedding-3-small')\n",
    "\n",
    "book_retriever = BookRetriever(\"三体\", embeddings, book_info_path)"
   ]
  },
  {
   "cell_type": "code",
   "execution_count": null,
   "metadata": {},
   "outputs": [],
   "source": [
    "# 加载小说进Retriever\n",
    "import tiktoken\n",
    "novel_path = \"novels/TOP/《三体》（实体版1-3全本）作者：刘慈欣.txt\"\n",
    "encoding = tiktoken.encoding_for_model(\"text-embedding-3-small\")\n",
    "loader = TextLoader(novel_path)\n",
    "documents = loader.load()\n",
    "text_splitter = CharacterTextSplitter(\n",
    "        separator='\\n',\n",
    "        chunk_size=1000,\n",
    "        chunk_overlap=200,\n",
    "        length_function=len\n",
    ")\n",
    "docs = text_splitter.split_documents(documents)\n",
    "book_retriever.add_large_documents(docs, encoding, TPM_limit=TPM_limit)\n",
    "book_retriever.save_local()"
   ]
  },
  {
   "cell_type": "code",
   "execution_count": 2,
   "metadata": {},
   "outputs": [
    {
     "data": {
      "text/plain": [
       "[(Document(metadata={'source': 'novels/TOP/《三体》（实体版1-3全本）作者：刘慈欣.txt'}, page_content='“不，那哪行！”白沐霖连连摆手说，“你们建设兵团的女战士，白天干的都是男同志的活儿，快回去休息吧，明天六点就要上山呢。哦，文洁，我后天就要回师部了，我会把你的情况向上级反映一下，也许能帮上忙呢。”\\n\\u3000\\u3000“谢谢，不过我觉得这里很好，挺安静的。”文洁看着月光下大兴安岭朦胧的林海说。\\n\\u3000\\u3000“你是不是在逃避什么？”\\n\\u3000\\u3000“我走了。”叶文洁轻声说，转身离去。\\n\\u3000\\u3000白沐霖看着她那纤细的身影在月光下消失，然后，他抬头遥望文洁刚才看过的林海，看到远方的雷达峰上，巨大的天线又缓缓立起，闪着金属的冷光。\\n\\u3000\\u3000三个星期后的一天中午，叶文洁被从伐木场紧急召回连部。一走进办公室，她就发现气氛不对，连长和指导员都在，还有一个表情冷峻的陌生人，他面前的办公桌上放着一个黑色的公文包，旁边两件东西显然是从公文包中拿出来的，那是一个信封和一本书，信封是拆开的，书就是那本她看过的《寂静的春天》。\\n\\u3000\\u3000这个年代的人对自己的政治处境都有一种特殊的敏感，而这种敏感在叶文洁身上更强烈一些，她顿时感到周围的世界像一个口袋般收紧，一切都向她挤压过来。\\n\\u3000\\u3000“叶文洁，这是师政治部来调查的张主任，”指导员指指陌生人说， “希望你配合，要讲实话。”\\n\\u3000\\u3000“这封信是你写的吗？”张主任问，同时从信封中抽出信来。叶文洁伸手去拿，但张主任没给她，仍把信拿在自己手中，一页一页翻给她看，终于翻到了她想看的最后一页，落款上没有姓名，只写着“革命群众”四个字。\\n\\u3000\\u3000“不，不是我写的。”文洁惊恐地摇摇头。\\n\\u3000\\u3000“可这是你的笔迹。”\\n\\u3000\\u3000“是，可我是帮别人抄的。”\\n\\u3000\\u3000“帮谁？”\\n\\u3000\\u3000平时在连队遇到什么事，叶文洁很少为自己申辩，所有的亏都默默地吃了，所有的委屈都默默地承受，更不用说牵连别人了。但这次不同，她很清楚这意味着什么。\\n\\u3000\\u3000“是帮那位上星期到连队来采访的《大生产报》记者抄的，他叫……”\\n\\u3000\\u3000“叶文洁！”张主任的眼睛像两个黑洞洞的枪口对着她，“我警告你，诬陷别人会使你的问题更加严重。我们已经从白沐霖同志那里调查清楚了，他只是受你之托把信带到呼和浩特发出去，并不知道信的内容。”\\n\\u3000\\u3000“他……是这么说的？！”文洁眼前一黑。'),\n",
       "  0.93380153),\n",
       " (Document(metadata={'source': 'novels/TOP/《三体》（实体版1-3全本）作者：刘慈欣.txt'}, page_content='白沐霖无意之中成为一个标志性的关键历史人物，但他自己没有机会知道这点，历史学家们失望地记载了他平淡的余生。白沐霖在《大生产报》一直工作到\\n\\u3000\\u30001975 年，那时内蒙古建设兵团撤销，他调到一个东北城市的科协工作至上世纪八十年代初，然后出国到加拿大，在渥太华一所华语学校任教师至\\n\\u3000\\u30001991 年，患肺癌去世。余生中他没对任何人提起过叶文洁的事，是否感到过自责和忏悔也不得而知。\\n\\u3000\\u3000“小叶啊，连里对你可是仁至义尽了。”连长喷出一口辣烈的莫合烟，看着地面说，“你出身和家庭背景都不好，可我们没把你当外人。针对你脱离群众、不积极要求进步的倾向，我和指导员都多次找你谈过，想帮助你。谁想到，你竟犯了这么严重的错误！”\\n\\u3000\\u3000“我早就看出来，她对‘文化大革命’的抵触情绪是根深蒂固的。”指导员接着说。\\n\\u3000\\u3000“下午，派两个人，把她和这些罪证一起送到师部去。”张主任面无表情地说。\\n\\u3000\\u3000同室的三名女犯相继被提走，监室里只剩叶文洁一个人了。墙角的那一小堆煤用完了也没人来加，炉子很快灭了，监室里冷了下来，叶文洁不得不将被子裹在身上。\\n\\u3000\\u3000天黑前来了两个人，其中一名是年长些的女干部，随行的那人介绍说她是中级法院军管会的军代表。\\n\\u3000\\u3000“程丽华。”女干部自我介绍说，她四十多岁，身穿军大衣，戴着一副宽边眼镜，脸上线条柔和，看得出年轻时一定很漂亮，说话时面带微笑，让人感到平易近人。叶文洁清楚，这样级别的人来到监室见一个待审的犯人，很不寻常。她谨慎地对程丽华点点头，起身在狭窄的床铺上给她让出坐的地方。\\n\\u3000\\u3000“这么冷，炉子呢？”程丽华不满地看了站在门口的看守所所长一眼，又转向文洁，“嗯，年轻，你比我想的还年轻。”说完坐在床上，离文洁很近，低头翻起公文包来，嘴里还像老大妈似的嘟囔着，“小叶你糊涂啊，年轻人都这样，书越读得多越糊涂了，你呀你呀……”她找到了要找的东西，把那一小打文件抱在胸前，抬头看着叶文洁，目光中充满了慈爱，“不过，年轻人嘛，谁没犯过错误？我就犯过，那时我在四野的文工团，苏联歌曲唱得好，一次政治学习会上，我说我们应该并入苏联，成为苏维埃社会主义联盟的一个新共和国，这样国际共产主义的力量就更强大了……幼稚啊，可谁没幼稚过呢？还是那句话，不要有思想负担，有错就认识就改，然后继续革命嘛。”程丽华的一席话拉近了叶文洁与她的距离，但叶文洁在灾难中学会了谨慎，她不敢贸然接受这份奢侈的善意。'),\n",
       "  0.93813187),\n",
       " (Document(metadata={'source': 'novels/TOP/《三体》（实体版1-3全本）作者：刘慈欣.txt'}, page_content='“是帮那位上星期到连队来采访的《大生产报》记者抄的，他叫……”\\n\\u3000\\u3000“叶文洁！”张主任的眼睛像两个黑洞洞的枪口对着她，“我警告你，诬陷别人会使你的问题更加严重。我们已经从白沐霖同志那里调查清楚了，他只是受你之托把信带到呼和浩特发出去，并不知道信的内容。”\\n\\u3000\\u3000“他……是这么说的？！”文洁眼前一黑。\\n\\u3000\\u3000张主任没有回答她的话，而是拿起了那本书，“你写这封信，一定是受到了它的启发。”他把书对着连长和指导员展示了一下，“这本书叫《寂静的春天》，1962 年在美国出版，在资本主义世界影响很大。”他接着从公文包中拿出了另一本书，封面是白皮黑字，“这是这本书的中译本，是有关部门以内参形式下发的，供批判用。现在，上级对这本书已经做出了明确的定性：这是一部反动的大毒草。该书从唯心史观出发，宣扬末世论，借环境问题之名，为资本主义世界最后的腐朽没落寻找托辞，其实质是十分反动的。”\\n\\u3000\\u3000“可这本书……也不是我的。”文洁无力地说。\\n\\u3000\\u3000“白沐霖同志是上级指定的本书译者之一，他携带这本书是完全合法的，当然，他也负有保管责任，不该让你趁他在劳动中不备时偷拿去看——现在，你从这本书中找到了向社会主义进攻的思想武器。”\\n\\u3000\\u3000叶文洁沉默了，她知道自己已经掉到陷阱的底部，任何挣扎都是徒劳的。\\n\\u3000\\u3000与后来人们熟知的一些历史记载相反，白沐霖当初并非有意陷害叶文洁，他写给中央的那封信也可能是出于真诚的责任心。那时怀着各种目的直接给中央写信的人很多，大多数信件石沉大海，也有少数人因此一夜之间飞黄腾达或面临灭顶之灾。当时的政治神经是极其错综复杂的，作为记者，白沐霖自以为了解这神经系统的走向和敏感之处，但他过分自信了，他这封信触动了他以前不知道的雷区。得知消息后，恐惧压倒了一切，他决定牺牲叶文洁，保护自己。\\n\\u3000\\u3000半个世纪后，历史学家们一致认为， 1969\\n\\u3000\\u3000年的这一事件是以后人类历史的一个转折点。\\n\\u3000\\u3000白沐霖无意之中成为一个标志性的关键历史人物，但他自己没有机会知道这点，历史学家们失望地记载了他平淡的余生。白沐霖在《大生产报》一直工作到\\n\\u3000\\u30001975 年，那时内蒙古建设兵团撤销，他调到一个东北城市的科协工作至上世纪八十年代初，然后出国到加拿大，在渥太华一所华语学校任教师至\\n\\u3000\\u30001991 年，患肺癌去世。余生中他没对任何人提起过叶文洁的事，是否感到过自责和忏悔也不得而知。'),\n",
       "  0.9860456)]"
      ]
     },
     "execution_count": 2,
     "metadata": {},
     "output_type": "execute_result"
    }
   ],
   "source": [
    "book_retriever.search(\"叶文洁是谁\")"
   ]
  },
  {
   "cell_type": "code",
   "execution_count": 11,
   "metadata": {},
   "outputs": [],
   "source": [
    "from langchain_core.prompts import ChatPromptTemplate\n",
    "from langchain_openai import ChatOpenAI\n",
    "from langchain_core.runnables import RunnablePassthrough\n",
    "from langchain_core.output_parsers import StrOutputParser\n",
    "\n",
    "llm = ChatOpenAI(model='gpt-4o-mini')\n",
    "retriever = book_retriever.vector_store.as_retriever()\n",
    "\n",
    "def format_docs(docs):\n",
    "    return \"\\n\\n\".join(doc.page_content for doc in docs)\n",
    "\n",
    "rag_process_template = \"\"\"请将以下内容总结为精炼版本，以结构化形式输出，重点保留主要人物的姓名、他们之间的关系、以及重要的地名或组织名。请回答以下问题：1. 谁是主要人物？2. 他们之间的关系是什么？3. 有哪些关键事件或地点？\n",
    "'''{context}'''\n",
    "\"\"\"\n",
    "rag_process_prompt = ChatPromptTemplate.from_template(rag_process_template)\n",
    "\n",
    "outline_template = \"\"\"根据以上已知的角色的过往历史，与续写内容无直接联系，以用户给出要求进行续写，创作一个详细的续写大纲，以结构化形式输出。请确保大纲包括以下要素：1. 主要情节发展；2. 角色设定和发展；3. 背景设定；4. 主要冲突和解决方案。请考虑如何将历史内容与续写开头有效结合，并回答以下问题：主要人物面对的挑战是什么？故事的核心冲突是什么？\n",
    "'''{context}'''\n",
    "以下是用户提出的要求：\n",
    "'''{question}'''\n",
    "\"\"\"\n",
    "outline_prompt = ChatPromptTemplate.from_template(outline_template)\n",
    "\n",
    "expand_template = \"\"\"请根据以下大纲创作一段故事\n",
    "'''{context}'''\n",
    "\"\"\"\n",
    "expand_template = ChatPromptTemplate.from_template(expand_template)\n",
    "\n",
    "rag_process_chain = (\n",
    "    {\"context\": retriever | format_docs}\n",
    "    | rag_process_prompt\n",
    "    | llm\n",
    "    | StrOutputParser()\n",
    ")\n",
    "outline_chain = (\n",
    "    {\"context\": rag_process_chain, \"question\": RunnablePassthrough()}\n",
    "    | outline_prompt\n",
    "    | llm\n",
    "    | StrOutputParser()\n",
    ")\n",
    "expand_chain = (\n",
    "    {\"context\": outline_chain}\n",
    "    | expand_template\n",
    "    | llm\n",
    "    | StrOutputParser()\n",
    ")\n"
   ]
  },
  {
   "cell_type": "code",
   "execution_count": 66,
   "metadata": {},
   "outputs": [
    {
     "name": "stderr",
     "output_type": "stream",
     "text": [
      "d:\\anaconda3\\envs\\qqbot\\Lib\\site-packages\\pygraphviz\\agraph.py:1409: RuntimeWarning: Error: Unknown HTML element <context> on line 1 \n",
      "in label of node 6ae3013e159d422889517b163aa36772\n",
      "Error: not well-formed (invalid token) in line 1 \n",
      "... Parallel<context,question> ...\n",
      "in label of node 1298ce4ca02a4882b5005837519fa04e\n",
      "Error: not well-formed (invalid token) in line 1 \n",
      "... Parallel<context,question> ...\n",
      "in label of node 9e2b30044bca492babed7d2302719c17\n",
      "\n",
      "  warnings.warn(b\"\".join(errors).decode(self.encoding), RuntimeWarning)\n"
     ]
    }
   ],
   "source": [
    "# 绘制结构\n",
    "from PIL import Image\n",
    "from io import BytesIO\n",
    "\n",
    "data = expand_chain.get_graph().draw_png()\n",
    "image = Image.open(BytesIO(data))\n",
    "image.show()"
   ]
  },
  {
   "cell_type": "code",
   "execution_count": 12,
   "metadata": {},
   "outputs": [
    {
     "data": {
      "text/plain": [
       "'在无尽的黑域中，艾AA和云天明漂浮在一片漆黑的宇宙中，四周没有任何光亮，只有沉重的寂静和无尽的恐惧。黑域的存在仿佛将他们的心灵也吞噬，让他们在这未知的空间里感到无助与迷茫。\\n\\n“我们必须找到出路。”艾AA的声音在黑暗中显得尤为坚定，她抬起头，凝视着无边的黑暗，似乎在努力寻找那一丝光亮。\\n\\n云天明微微颤抖，身体里的虚弱感如潮水般涌来。他努力回忆起与程心的点点滴滴，那是他生命中最美好的时光。然而，病痛和绝望渐渐侵蚀着他的勇气。他自言自语道：“我们可能永远也出不去。”\\n\\n“别这样想！”艾AA转过身来，目光坚定地锁定在云天明的眼中，“我们还活着，还有希望。你要相信，生命是值得的。”\\n\\n她的话如同一束光，穿透了云天明心中的黑暗。他闭上眼，努力将那些绝望的情绪压回心底，心中不断回响着程心温柔的声音：“活下去，无论多么艰难。”\\n\\n他们开始探索周围的环境，艾AA通过手中的科技设备，逐渐收集到一些数据。就在这时，前方突然闪现出一些微弱的光点，如星星般在黑域的深处闪烁。云天明的心跳加速，仿佛看到了希望的曙光。\\n\\n“我们去那些光点！”艾AA兴奋地说，拉着云天明的手，朝着光点的方向飞去。\\n\\n在接近光点的过程中，云天明的身体再一次被虚弱感击倒，他几乎无法继续前行。艾AA察觉到他的挣扎，立刻停下脚步，紧紧握住他的手：“不要放弃，我在你身边，我们一起走出这里！”\\n\\n此时的云天明，心中虽有犹豫与恐惧，但艾AA的坚强与勇气如同温暖的阳光，驱散了他内心的阴霾。他深吸一口气，努力站稳脚步，仿佛感受到了程心的微笑与鼓励。\\n\\n“我明白了，活着就是希望。”云天明低声说道，目光坚定，向着光点迈出坚定的一步。\\n\\n随着他们的接近，那些光点逐渐变得明亮，仿佛在为他们指引出路。就在这时，云天明脑海中浮现出程心的身影，她的眼中闪烁着对生活的热爱与不屈的精神，仿佛在告诉他，无论多么艰难，都要坚持下去。\\n\\n最终，云天明和艾AA抵达了光点的边缘，那里散发着温暖的光辉，仿佛是通往另一个世界的入口。云天明感受到了一种久违的力量，他的心中充满了对生命的渴望与希望。\\n\\n“我们可以做到！”艾AA微笑着，带着云天明一起迈入那片光明，黑域的阴霾在他们身后渐渐消散。\\n\\n在未来的旅途上，云天明与艾AA并肩而行，面对未知的挑战，他们的心灵在黑暗中交汇，彼此支持，寻找着生命中最耀眼的光芒。'"
      ]
     },
     "execution_count": 12,
     "metadata": {},
     "output_type": "execute_result"
    }
   ],
   "source": [
    "expand_chain.invoke(\"我希望续写故事是以 艾AA和云天明被困在黑域之中 为开头\")"
   ]
  }
 ],
 "metadata": {
  "kernelspec": {
   "display_name": "qqbot",
   "language": "python",
   "name": "python3"
  },
  "language_info": {
   "codemirror_mode": {
    "name": "ipython",
    "version": 3
   },
   "file_extension": ".py",
   "mimetype": "text/x-python",
   "name": "python",
   "nbconvert_exporter": "python",
   "pygments_lexer": "ipython3",
   "version": "3.11.4"
  }
 },
 "nbformat": 4,
 "nbformat_minor": 2
}
